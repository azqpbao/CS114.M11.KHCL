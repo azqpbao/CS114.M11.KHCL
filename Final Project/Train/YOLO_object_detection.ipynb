{
  "nbformat": 4,
  "nbformat_minor": 0,
  "metadata": {
    "colab": {
      "name": "YOLO-object-detection.ipynb",
      "provenance": [],
      "collapsed_sections": [],
      "authorship_tag": "ABX9TyNt1YubAzDKpKNj6Qi7+tTR",
      "include_colab_link": true
    },
    "kernelspec": {
      "name": "python3",
      "display_name": "Python 3"
    },
    "language_info": {
      "name": "python"
    },
    "accelerator": "GPU"
  },
  "cells": [
    {
      "cell_type": "markdown",
      "metadata": {
        "id": "view-in-github",
        "colab_type": "text"
      },
      "source": [
        "<a href=\"https://colab.research.google.com/github/UIT-19521183/CS114.L21/blob/main/final_project/Train/YOLO_object_detection.ipynb\" target=\"_parent\"><img src=\"https://colab.research.google.com/assets/colab-badge.svg\" alt=\"Open In Colab\"/></a>"
      ]
    },
    {
      "cell_type": "markdown",
      "metadata": {
        "id": "C4HeZ2IoIWsc"
      },
      "source": [
        "#Huấn luyện model phát hiện vị trí thông tin trong bìa sách với YOLOv5\n",
        "<a align=\"left\" href=\"https://ultralytics.com/yolov5\" target=\"_blank\">\n",
        "<img src=\"https://user-images.githubusercontent.com/26833433/125273437-35b3fc00-e30d-11eb-9079-46f313325424.png\"></a>\n",
        "\n",
        "###Dữ liệu bao gồm : 6000 ảnh chia thành 80/20 (train/val)\n",
        "###Với 6 label:\n",
        "  * Tên sách\n",
        "  * Tên tác giả\n",
        "  * Nhà xuất bản\n",
        "  * Tập\n",
        "  * Người dịch\n",
        "  * Tái bản\n",
        "\n",
        "###Model sử dụng: YOLOv5x6 của [Ultralytics](https://github.com/ultralytics/yolov5)\n",
        "\n",
        "### Lưu ý: Các phần cài đặt tham số, xử lý data phần là offline trên máy rồi nén vào chung một file và up lên drive. ([link drive folder](https://drive.google.com/drive/folders/1Y_J0FccwASAwqh5owkzzLfw5QTYfc0NZ?usp=sharing))"
      ]
    },
    {
      "cell_type": "markdown",
      "metadata": {
        "id": "6HpCiYNZInI5"
      },
      "source": [
        "##Kết nối với google drive để tiện việc lưu trữ và tiếp tục train"
      ]
    },
    {
      "cell_type": "code",
      "metadata": {
        "id": "kcOFPho9qzWc"
      },
      "source": [
        "from google.colab import drive\n",
        "drive.mount('/content/gdrive')"
      ],
      "execution_count": null,
      "outputs": []
    },
    {
      "cell_type": "markdown",
      "metadata": {
        "id": "FoJzHp25Df3r"
      },
      "source": [
        "## Mọi người tải file zip xuống và giải nén.\n",
        "- trong file yolov5.zip này đã được tải xuống model và thêm cả data trong đó.\n",
        "- link: https://drive.google.com/file/d/1wmFvdessDGsXND22T3sdgNaizbmzvqOT/view?usp=sharing\n",
        "- Mọi người có thể gdown về drive của mình để có thể train ngay trên drive của mình và tiện lưu kết quả trên đó."
      ]
    },
    {
      "cell_type": "code",
      "metadata": {
        "id": "_ZREXoU8EmIT"
      },
      "source": [
        "%cd /content/gdrive/MyDrive\n",
        "!gdown https://drive.google.com/uc?id=1wmFvdessDGsXND22T3sdgNaizbmzvqOT"
      ],
      "execution_count": null,
      "outputs": []
    },
    {
      "cell_type": "markdown",
      "metadata": {
        "id": "w4Z2v49oI0Ot"
      },
      "source": [
        "##Unzip file data"
      ]
    },
    {
      "cell_type": "code",
      "metadata": {
        "id": "LhcetlKJd9yU"
      },
      "source": [
        "%cd /content/gdrive/MyDrive\n",
        "!unzip yolov5.zip"
      ],
      "execution_count": null,
      "outputs": []
    },
    {
      "cell_type": "markdown",
      "metadata": {
        "id": "h_yrB6ONI7MU"
      },
      "source": [
        "##Cài môi trường cho quá trình huấn luyện model"
      ]
    },
    {
      "cell_type": "code",
      "metadata": {
        "id": "DRtwBT20q95x"
      },
      "source": [
        "%cd /content/gdrive/MyDrive/yolov5\n",
        "!pip install -r requirements.txt "
      ],
      "execution_count": null,
      "outputs": []
    },
    {
      "cell_type": "markdown",
      "metadata": {
        "id": "oLvyQKsQJKSB"
      },
      "source": [
        "##Bắt đầu huấn luyện"
      ]
    },
    {
      "cell_type": "code",
      "metadata": {
        "id": "Dd3IcRIiILjb"
      },
      "source": [
        "%cd /content/gdrive/MyDrive/yolov5\n",
        "!python train.py --img 720 --batch 8 --epochs 30 --data models/data.yaml --weights yolov5x6.pt"
      ],
      "execution_count": null,
      "outputs": []
    },
    {
      "cell_type": "markdown",
      "metadata": {
        "id": "UI6b93SvJPJI"
      },
      "source": [
        "##Tiếp tục huấn luyện đến khi thấy f1 score không tăng lên được nữa."
      ]
    },
    {
      "cell_type": "code",
      "metadata": {
        "id": "Mdn0BqYDvbmO"
      },
      "source": [
        "%cd /content/gdrive/MyDrive/yolov5\n",
        "!python train.py --img 720 --batch 8 --epochs 15 --data models/data.yaml --weights /content/gdrive/MyDrive/yolov5/runs/train/exp34/weights/best.pt"
      ],
      "execution_count": null,
      "outputs": []
    },
    {
      "cell_type": "markdown",
      "metadata": {
        "id": "gUacU0oAJc4g"
      },
      "source": [
        "##Detect thử một vài tấm ảnh xem độ chính xác"
      ]
    },
    {
      "cell_type": "code",
      "metadata": {
        "id": "FGfScRlyDMVM"
      },
      "source": [
        "%cd /content/gdrive/MyDrive/yolov5\n",
        "from IPython.display import Image, clear_output\n",
        "!python detect.py --weights runs/train/exp8/weights/best.pt --img 720 --conf 0.25 --source /content/6.jpg"
      ],
      "execution_count": null,
      "outputs": []
    }
  ]
}